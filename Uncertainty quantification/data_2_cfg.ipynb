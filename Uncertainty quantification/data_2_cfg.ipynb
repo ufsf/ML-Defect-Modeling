{
 "cells": [
  {
   "cell_type": "code",
   "execution_count": 1,
   "metadata": {},
   "outputs": [],
   "source": [
    "from ase.io import read, write\n",
    "import numpy as np\n",
    "\n",
    "def data2cfg(input_file,output_file):\n",
    "    # Step 1: Read the LAMMPS data file using ASE\n",
    "    atoms = read(input_file, format='lammps-data',style='atomic')\n",
    "\n",
    "    # Step 2: Extract cell information and atom positions\n",
    "    cell = atoms.get_cell()\n",
    "    positions = atoms.get_positions()\n",
    "    symbols = atoms.numbers-1\n",
    "\n",
    "    # Create random forces and energy\n",
    "    forces = np.random.randn(len(atoms), 3)*0  # Random forces array\n",
    "    energy = np.random.randn(1)[0] * 1000    # Random energy value\n",
    "\n",
    "    # Step 3: Format the data into the specified output\n",
    "    with open(output_file, 'w') as f:\n",
    "        f.write(\"BEGIN_CFG\\n\")\n",
    "        f.write(f\" Size\\n    {len(atoms)}\\n\")\n",
    "        f.write(\" Supercell\\n\")\n",
    "        for vec in cell:\n",
    "            f.write(\"    \" + \"    \".join(f\"{x:.12f}\" for x in vec) + \"\\n\")\n",
    "        f.write(\" AtomData:  id type       cartes_x      cartes_y      cartes_z           fx          fy          fz\\n\")\n",
    "        \n",
    "        for i, (symbol, pos, force) in enumerate(zip(symbols, positions, forces), 1):\n",
    "            f.write(f\"    {i}    {symbol}    \" + \"    \".join(f\"{x:.12f}\" for x in pos) + \"    \" + \"    \".join(f\"{x:.1f}\" for x in force) + \"\\n\")\n",
    "        \n",
    "        f.write(f\" Energy\\n      {energy:.12f}\\n\")\n",
    "        f.write(\" PlusStress:  xx          yy          zz          yz          xz          xy\\n\")\n",
    "        stress = np.random.randn(6)  # Random stress tensor components\n",
    "        f.write(\"    \" + \"    \".join(f\"{x:.12f}\" for x in stress) + \"\\n\")\n",
    "        f.write(\" Feature   EFS_by\\tVASP\\n\")\n",
    "        f.write(\"END_CFG\\n\")\n",
    "\n",
    "# for i in range(5):\n",
    "#     input = 'GB'+str(i+1)+'.data'\n",
    "#     output = 'GB'+str(i+1)+'.cfg'\n",
    "#     data2cfg(input,output)\n",
    "#     print(i)\n",
    "data2cfg('my.data','my.cfg')"
   ]
  }
 ],
 "metadata": {
  "kernelspec": {
   "display_name": "Python 3",
   "language": "python",
   "name": "python3"
  },
  "language_info": {
   "codemirror_mode": {
    "name": "ipython",
    "version": 3
   },
   "file_extension": ".py",
   "mimetype": "text/x-python",
   "name": "python",
   "nbconvert_exporter": "python",
   "pygments_lexer": "ipython3",
   "version": "3.11.6"
  }
 },
 "nbformat": 4,
 "nbformat_minor": 2
}
